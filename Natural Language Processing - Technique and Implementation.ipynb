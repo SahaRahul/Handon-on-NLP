{
 "cells": [
  {
   "cell_type": "markdown",
   "metadata": {},
   "source": [
    "# Hands on NLP\n",
    "\n",
    "### Reference code from: Analytics Vidya\n",
    "\n",
    "###### According to industry estimates, only 21% of the available data is present in structured form. Data is generated as we speak, as we tweet, as we send messages on whatsapp\n",
    "\n",
    "## Concept of Natural Language processing - Techniques and Implementation\n",
    "\n",
    "## Text Processing"
   ]
  },
  {
   "cell_type": "code",
   "execution_count": 1,
   "metadata": {},
   "outputs": [
    {
     "name": "stdout",
     "output_type": "stream",
     "text": [
      "showing info https://raw.githubusercontent.com/nltk/nltk_data/gh-pages/index.xml\n"
     ]
    },
    {
     "data": {
      "text/plain": [
       "True"
      ]
     },
     "execution_count": 1,
     "metadata": {},
     "output_type": "execute_result"
    }
   ],
   "source": [
    "import nltk\n",
    "nltk.download()"
   ]
  },
  {
   "cell_type": "markdown",
   "metadata": {},
   "source": [
    "#### 1. Noise Removal\n",
    "#### 2. Lexicon Normalization\n",
    "#### 3. Object Standardization\n"
   ]
  },
  {
   "cell_type": "markdown",
   "metadata": {},
   "source": [
    "### Noise Removal\n",
    "\n",
    "#### Based on the list of noisy data"
   ]
  },
  {
   "cell_type": "code",
   "execution_count": 39,
   "metadata": {},
   "outputs": [],
   "source": [
    "noise_list = [\"is\", \"am\", \"this\", \"a\"]\n",
    "\n",
    "def _rem_noise(input_text):\n",
    "    words = input_text.split()\n",
    "    noise_free_wrds = [wrd for wrd in words if wrd not in noise_list]\n",
    "    text_wo_noise = \" \".join(noise_free_wrds)\n",
    "    return text_wo_noise\n",
    "\n"
   ]
  },
  {
   "cell_type": "code",
   "execution_count": 3,
   "metadata": {},
   "outputs": [
    {
     "data": {
      "text/plain": [
       "'I live in country'"
      ]
     },
     "execution_count": 3,
     "metadata": {},
     "output_type": "execute_result"
    }
   ],
   "source": [
    "_rem_noise(\"I live in this country\")"
   ]
  },
  {
   "cell_type": "markdown",
   "metadata": {},
   "source": [
    "#### Sample Code for remove a regex pattern"
   ]
  },
  {
   "cell_type": "code",
   "execution_count": 4,
   "metadata": {},
   "outputs": [],
   "source": [
    "import re\n",
    "\n",
    "def _rem_regex(input_txt, regex_pattern):\n",
    "    urls = re.finditer(regex_pattern, input_txt)\n",
    "    print(urls)\n",
    "    for i in urls:\n",
    "        input_txt = re.sub(i.group().strip(),'', input_txt)\n",
    "    return input_txt\n",
    "\n",
    "regex_pattern = \"#[\\w]*\""
   ]
  },
  {
   "cell_type": "code",
   "execution_count": 5,
   "metadata": {},
   "outputs": [
    {
     "name": "stdout",
     "output_type": "stream",
     "text": [
      "<callable_iterator object at 0x0950E8D0>\n"
     ]
    },
    {
     "data": {
      "text/plain": [
       "'remove this  from resting testing'"
      ]
     },
     "execution_count": 5,
     "metadata": {},
     "output_type": "execute_result"
    }
   ],
   "source": [
    "_rem_regex(\"remove this #hastag from resting testing\", regex_pattern)"
   ]
  },
  {
   "cell_type": "markdown",
   "metadata": {},
   "source": [
    "### Lexicon Normalization\n",
    "\n",
    "#### 1. Stemming\n",
    "#### 2. Lemmatization"
   ]
  },
  {
   "cell_type": "code",
   "execution_count": 8,
   "metadata": {},
   "outputs": [
    {
     "data": {
      "text/plain": [
       "'multiply'"
      ]
     },
     "execution_count": 8,
     "metadata": {},
     "output_type": "execute_result"
    }
   ],
   "source": [
    "from nltk.stem.wordnet import WordNetLemmatizer\n",
    "\n",
    "\n",
    "lem = WordNetLemmatizer()\n",
    "\n",
    "\n",
    "from  nltk.stem.porter import PorterStemmer\n",
    "\n",
    "stm = PorterStemmer()\n",
    "\n",
    "\n",
    "word = \"multiplying\"\n",
    "lem.lemmatize(word, \"v\")\n"
   ]
  },
  {
   "cell_type": "code",
   "execution_count": 9,
   "metadata": {},
   "outputs": [
    {
     "data": {
      "text/plain": [
       "'multipli'"
      ]
     },
     "execution_count": 9,
     "metadata": {},
     "output_type": "execute_result"
    }
   ],
   "source": [
    "stm.stem(word)"
   ]
  },
  {
   "cell_type": "markdown",
   "metadata": {},
   "source": [
    "### Object Standardization\n",
    "\n",
    "##### Text data often contains words or phrases which are not present in any standard lexical dictionaries. These pieces are not recognized by search engines and models."
   ]
  },
  {
   "cell_type": "code",
   "execution_count": 80,
   "metadata": {},
   "outputs": [],
   "source": [
    "lookup_dict = {'rt':'Retweet', 'dm':'direct message', \"awsm\" : \"awesome\", \"luv\" : \"love\", 'rs' : \"Rahul Saha\"}\n",
    "\n",
    "def _lookup_words(input_text):\n",
    "\n",
    "    words = input_text.split()\n",
    "    #print(words)\n",
    "    new_words = []\n",
    "    for word in words:\n",
    "        if word.lower() in lookup_dict:\n",
    "            word = lookup_dict[word.lower()]\n",
    "        new_words.append(word)\n",
    "        new_txt = \" \".join(new_words)\n",
    "    return new_txt\n",
    "\n",
    "    "
   ]
  },
  {
   "cell_type": "code",
   "execution_count": 82,
   "metadata": {},
   "outputs": [
    {
     "data": {
      "text/plain": [
       "'Retweet this is a retweeted tweet by Rahul Saha. Rahul Saha'"
      ]
     },
     "execution_count": 82,
     "metadata": {},
     "output_type": "execute_result"
    }
   ],
   "source": [
    " _lookup_words(\"RT this is a retweeted tweet by Rahul Saha. rs\")"
   ]
  },
  {
   "cell_type": "code",
   "execution_count": null,
   "metadata": {},
   "outputs": [],
   "source": []
  }
 ],
 "metadata": {
  "kernelspec": {
   "display_name": "Python 3",
   "language": "python",
   "name": "python3"
  },
  "language_info": {
   "codemirror_mode": {
    "name": "ipython",
    "version": 3
   },
   "file_extension": ".py",
   "mimetype": "text/x-python",
   "name": "python",
   "nbconvert_exporter": "python",
   "pygments_lexer": "ipython3",
   "version": "3.6.5"
  }
 },
 "nbformat": 4,
 "nbformat_minor": 2
}
